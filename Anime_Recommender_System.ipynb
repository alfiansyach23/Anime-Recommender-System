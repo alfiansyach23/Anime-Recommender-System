{
 "cells": [
  {
   "cell_type": "markdown",
   "metadata": {},
   "source": [
    "## ANIME RECOMMENDER SYSTEM"
   ]
  },
  {
   "cell_type": "markdown",
   "metadata": {},
   "source": [
    "## MY ANIME LIST WEBSCRAPPING"
   ]
  },
  {
   "cell_type": "code",
   "execution_count": 1,
   "metadata": {},
   "outputs": [],
   "source": [
    "# import library\n",
    "import requests \n",
    "from bs4 import BeautifulSoup \n",
    "\n",
    "import pandas as pd\n",
    "import numpy as np\n",
    "import re\n",
    "\n",
    "from fuzzywuzzy import fuzz, process\n",
    "from rapidfuzz import fuzz, process\n",
    "import difflib\n",
    "\n",
    "import ipywidgets as widgets\n",
    "from IPython.display import display\n",
    "\n",
    "from sklearn.preprocessing import MinMaxScaler\n",
    "from sklearn.feature_extraction.text import TfidfVectorizer\n",
    "from sklearn.metrics.pairwise import cosine_similarity\n",
    "from sklearn.metrics.pairwise import linear_kernel\n",
    "\n",
    "import warnings\n",
    "warnings.filterwarnings('ignore')\n",
    "\n",
    "pd.set_option('display.max_columns', None)"
   ]
  },
  {
   "cell_type": "code",
   "execution_count": 2,
   "metadata": {},
   "outputs": [],
   "source": [
    "# scrapping anime lists such as ranking, title, rating, etc. on the first page\n",
    "site_url = 'https://myanimelist.net/topanime.php'\n",
    "\n",
    "response = requests.get(site_url)\n",
    "\n",
    "if response.status_code == 200:\n",
    "    doc = BeautifulSoup(response.text, 'html.parser')\n",
    "    row_content = doc.find_all('tr', class_='ranking-list')\n",
    "    top_anime = []\n",
    "\n",
    "    for row in row_content:\n",
    "        ranking = {\n",
    "            'Rank': row.find('td', class_=\"rank ac\").find('span').text,\n",
    "            'Title': row.find('div', class_=\"di-ib clearfix\").find('a').text,\n",
    "            'Rating': row.find('td', class_=\"score ac fs14\").find('span').text,\n",
    "            'Image_URL': row.find('td', class_='title al va-t word-break').find('img')['data-src'],\n",
    "        }\n",
    "\n",
    "        episode_info = row.find('div', class_=\"information di-ib mt4\").text.strip().split('\\n')\n",
    "        ranking['Episodes'] = episode_info[0].strip() if episode_info else None\n",
    "        ranking['Dates'] = episode_info[1].strip() if len(episode_info) > 1 else None\n",
    "\n",
    "        members_info = episode_info[-1].strip().replace('members', '').replace(',', '').strip()\n",
    "        ranking['Members'] = int(members_info) if members_info.isdigit() else None\n",
    "\n",
    "        top_anime.append(ranking)\n",
    "\n",
    "    df_top_anime = pd.DataFrame(top_anime)\n",
    "    print(df_top_anime.to_string(index=False))\n",
    "\n",
    "else:\n",
    "    print(\"Failed to retrieve the page. Status code:\", response.status_code)"
   ]
  },
  {
   "cell_type": "code",
   "execution_count": 3,
   "metadata": {},
   "outputs": [],
   "source": [
    "# scrapping anime lists such as ranking, title, rating, etc. on the next page\n",
    "site_url = 'https://myanimelist.net'\n",
    "\n",
    "def get_top_anime_page(page_number):\n",
    "    top_anime_url = site_url + '/topanime.php?limit=' + str(page_number * 50)\n",
    "    response = requests.get(top_anime_url)\n",
    "    doc = BeautifulSoup(response.text, 'html.parser')\n",
    "    row_content = doc.find_all('tr', {'class': 'ranking-list'})\n",
    "    return row_content\n",
    "\n",
    "def parse_episodes(listt):\n",
    "    result = []\n",
    "    for i in listt[:2]:\n",
    "        r = i.strip()\n",
    "        result.append(r)\n",
    "    return result\n",
    "\n",
    "def parse_members_info(row):\n",
    "    episode_info = row.find('div', class_=\"information di-ib mt4\").text.strip().split('\\n')\n",
    "    members_info = episode_info[-1].strip().replace('members', '').replace(',', '').strip()\n",
    "    return int(members_info) if members_info.isdigit() else None\n",
    "\n",
    "def parse_anime_data(row):\n",
    "    episode = parse_episodes(row.find('div', class_='information di-ib mt4').text.strip().split('\\n'))\n",
    "    ranking = {\n",
    "        'Rank': row.find('td', class_='rank ac').find('span').text,\n",
    "        'Title': row.find('div', class_='di-ib clearfix').find('a').text,\n",
    "        'Rating': row.find('td', class_='score ac fs14').find('span').text,\n",
    "        'Image_URL': row.find('td', class_='title al va-t word-break').find('img')['data-src'],\n",
    "        'Episodes': episode[0],\n",
    "        'Dates': episode[1],\n",
    "        'Members': parse_members_info(row)\n",
    "    }\n",
    "    return ranking\n",
    "\n",
    "def get_all_top_anime():\n",
    "    top_anime = []\n",
    "    for page_number in range(1, 200):\n",
    "        row_content = get_top_anime_page(page_number)\n",
    "        for row in row_content:\n",
    "            ranking = parse_anime_data(row)\n",
    "            top_anime.append(ranking)\n",
    "    return top_anime\n",
    "\n",
    "all_top_anime = get_all_top_anime()\n",
    "\n",
    "df_51_10000 = pd.DataFrame(all_top_anime)\n",
    "print(df_51_10000.to_string())"
   ]
  },
  {
   "cell_type": "code",
   "execution_count": 4,
   "metadata": {},
   "outputs": [],
   "source": [
    "# combine the scrapping results of the first page and the next page\n",
    "df_1_50 = pd.DataFrame(top_anime)\n",
    "df_51_10000 = pd.DataFrame(all_top_anime)\n",
    "\n",
    "df = pd.concat([df_1_50, df_51_10000], ignore_index=True)\n",
    "print(df.to_string())"
   ]
  },
  {
   "cell_type": "code",
   "execution_count": 5,
   "metadata": {},
   "outputs": [],
   "source": [
    "# save to csv\n",
    "df.to_csv('Anime_Recommender_System_Scrapping.csv', index=False)"
   ]
  },
  {
   "cell_type": "markdown",
   "metadata": {},
   "source": [
    "## DATA PRE-PROCESSING"
   ]
  },
  {
   "cell_type": "code",
   "execution_count": 2,
   "metadata": {},
   "outputs": [],
   "source": [
    "# merge the scrapped dataframe with the dataframe from kaggle only to complete additional information such as genre, studios, procedure, and synopsis\n",
    "anime_movies_scrapping = pd.read_csv('Anime_Recommender_System_Scrapping.csv')\n",
    "anime_movies = pd.read_csv('Anime_Recommender_System.csv')\n",
    "\n",
    "df = anime_movies_scrapping[['Rank', 'Title', 'Rating', 'Image_URL', 'Episodes', 'Dates', 'Members']].merge(\n",
    "     anime_movies[['title', 'genres', 'studios', 'producers', 'synopsis']],\n",
    "     left_on='Title', right_on='title', how='left')"
   ]
  },
  {
   "cell_type": "code",
   "execution_count": 3,
   "metadata": {},
   "outputs": [
    {
     "data": {
      "text/html": [
       "<div>\n",
       "<style scoped>\n",
       "    .dataframe tbody tr th:only-of-type {\n",
       "        vertical-align: middle;\n",
       "    }\n",
       "\n",
       "    .dataframe tbody tr th {\n",
       "        vertical-align: top;\n",
       "    }\n",
       "\n",
       "    .dataframe thead th {\n",
       "        text-align: right;\n",
       "    }\n",
       "</style>\n",
       "<table border=\"1\" class=\"dataframe\">\n",
       "  <thead>\n",
       "    <tr style=\"text-align: right;\">\n",
       "      <th></th>\n",
       "      <th>Rank</th>\n",
       "      <th>Title</th>\n",
       "      <th>Rating</th>\n",
       "      <th>Image_URL</th>\n",
       "      <th>Episodes</th>\n",
       "      <th>Dates</th>\n",
       "      <th>Members</th>\n",
       "      <th>Genres</th>\n",
       "      <th>Studios</th>\n",
       "      <th>Producers</th>\n",
       "      <th>Synopsis</th>\n",
       "    </tr>\n",
       "  </thead>\n",
       "  <tbody>\n",
       "    <tr>\n",
       "      <th>0</th>\n",
       "      <td>1</td>\n",
       "      <td>Sousou no Frieren</td>\n",
       "      <td>9.12</td>\n",
       "      <td>https://cdn.myanimelist.net/r/50x70/images/ani...</td>\n",
       "      <td>TV (28 eps)</td>\n",
       "      <td>Sep 2023 -</td>\n",
       "      <td>342432</td>\n",
       "      <td>['Adventure', 'Drama', 'Fantasy']</td>\n",
       "      <td>['Madhouse']</td>\n",
       "      <td>['TOHO animation', 'Shogakukan']</td>\n",
       "      <td>The demon king has been defeated, and the vict...</td>\n",
       "    </tr>\n",
       "    <tr>\n",
       "      <th>1</th>\n",
       "      <td>2</td>\n",
       "      <td>Fullmetal Alchemist: Brotherhood</td>\n",
       "      <td>9.09</td>\n",
       "      <td>https://cdn.myanimelist.net/r/50x70/images/ani...</td>\n",
       "      <td>TV (64 eps)</td>\n",
       "      <td>Apr 2009 - Jul 2010</td>\n",
       "      <td>3262313</td>\n",
       "      <td>['Action', 'Adventure', 'Drama', 'Fantasy']</td>\n",
       "      <td>['Bones']</td>\n",
       "      <td>['Aniplex', 'Square Enix', 'Mainichi Broadcast...</td>\n",
       "      <td>After a horrific alchemy experiment goes wrong...</td>\n",
       "    </tr>\n",
       "    <tr>\n",
       "      <th>2</th>\n",
       "      <td>3</td>\n",
       "      <td>Steins;Gate</td>\n",
       "      <td>9.07</td>\n",
       "      <td>https://cdn.myanimelist.net/r/50x70/images/ani...</td>\n",
       "      <td>TV (24 eps)</td>\n",
       "      <td>Apr 2011 - Sep 2011</td>\n",
       "      <td>2505276</td>\n",
       "      <td>['Drama', 'Sci-Fi', 'Suspense']</td>\n",
       "      <td>['White Fox']</td>\n",
       "      <td>['Frontier Works', 'Media Factory', 'Kadokawa ...</td>\n",
       "      <td>Eccentric scientist Rintarou Okabe has a never...</td>\n",
       "    </tr>\n",
       "    <tr>\n",
       "      <th>3</th>\n",
       "      <td>4</td>\n",
       "      <td>Gintama°</td>\n",
       "      <td>9.06</td>\n",
       "      <td>https://cdn.myanimelist.net/r/50x70/images/ani...</td>\n",
       "      <td>TV (51 eps)</td>\n",
       "      <td>Apr 2015 - Mar 2016</td>\n",
       "      <td>614712</td>\n",
       "      <td>['Action', 'Comedy', 'Sci-Fi']</td>\n",
       "      <td>['Bandai Namco Pictures']</td>\n",
       "      <td>['TV Tokyo', 'Aniplex', 'Dentsu']</td>\n",
       "      <td>Gintoki, Shinpachi, and Kagura return as the f...</td>\n",
       "    </tr>\n",
       "    <tr>\n",
       "      <th>4</th>\n",
       "      <td>5</td>\n",
       "      <td>Shingeki no Kyojin Season 3 Part 2</td>\n",
       "      <td>9.05</td>\n",
       "      <td>https://cdn.myanimelist.net/r/50x70/images/ani...</td>\n",
       "      <td>TV (10 eps)</td>\n",
       "      <td>Apr 2019 - Jul 2019</td>\n",
       "      <td>2194804</td>\n",
       "      <td>['Action', 'Drama']</td>\n",
       "      <td>['Wit Studio']</td>\n",
       "      <td>['Production I.G', 'Dentsu', 'Mainichi Broadca...</td>\n",
       "      <td>Seeking to restore humanity's diminishing hope...</td>\n",
       "    </tr>\n",
       "  </tbody>\n",
       "</table>\n",
       "</div>"
      ],
      "text/plain": [
       "   Rank                               Title  Rating  \\\n",
       "0     1                   Sousou no Frieren    9.12   \n",
       "1     2    Fullmetal Alchemist: Brotherhood    9.09   \n",
       "2     3                         Steins;Gate    9.07   \n",
       "3     4                            Gintama°    9.06   \n",
       "4     5  Shingeki no Kyojin Season 3 Part 2    9.05   \n",
       "\n",
       "                                           Image_URL     Episodes  \\\n",
       "0  https://cdn.myanimelist.net/r/50x70/images/ani...  TV (28 eps)   \n",
       "1  https://cdn.myanimelist.net/r/50x70/images/ani...  TV (64 eps)   \n",
       "2  https://cdn.myanimelist.net/r/50x70/images/ani...  TV (24 eps)   \n",
       "3  https://cdn.myanimelist.net/r/50x70/images/ani...  TV (51 eps)   \n",
       "4  https://cdn.myanimelist.net/r/50x70/images/ani...  TV (10 eps)   \n",
       "\n",
       "                 Dates  Members                                       Genres  \\\n",
       "0           Sep 2023 -   342432            ['Adventure', 'Drama', 'Fantasy']   \n",
       "1  Apr 2009 - Jul 2010  3262313  ['Action', 'Adventure', 'Drama', 'Fantasy']   \n",
       "2  Apr 2011 - Sep 2011  2505276              ['Drama', 'Sci-Fi', 'Suspense']   \n",
       "3  Apr 2015 - Mar 2016   614712               ['Action', 'Comedy', 'Sci-Fi']   \n",
       "4  Apr 2019 - Jul 2019  2194804                          ['Action', 'Drama']   \n",
       "\n",
       "                     Studios  \\\n",
       "0               ['Madhouse']   \n",
       "1                  ['Bones']   \n",
       "2              ['White Fox']   \n",
       "3  ['Bandai Namco Pictures']   \n",
       "4             ['Wit Studio']   \n",
       "\n",
       "                                           Producers  \\\n",
       "0                   ['TOHO animation', 'Shogakukan']   \n",
       "1  ['Aniplex', 'Square Enix', 'Mainichi Broadcast...   \n",
       "2  ['Frontier Works', 'Media Factory', 'Kadokawa ...   \n",
       "3                  ['TV Tokyo', 'Aniplex', 'Dentsu']   \n",
       "4  ['Production I.G', 'Dentsu', 'Mainichi Broadca...   \n",
       "\n",
       "                                            Synopsis  \n",
       "0  The demon king has been defeated, and the vict...  \n",
       "1  After a horrific alchemy experiment goes wrong...  \n",
       "2  Eccentric scientist Rintarou Okabe has a never...  \n",
       "3  Gintoki, Shinpachi, and Kagura return as the f...  \n",
       "4  Seeking to restore humanity's diminishing hope...  "
      ]
     },
     "execution_count": 3,
     "metadata": {},
     "output_type": "execute_result"
    }
   ],
   "source": [
    "# removed the title column from the kaggle dataframe, and organized the column names\n",
    "df.drop(columns='title', inplace=True)\n",
    "\n",
    "df.rename(columns={'genres': 'Genres',\n",
    "                   'studios': 'Studios',\n",
    "                   'producers': 'Producers',\n",
    "                   'synopsis': 'Synopsis'},\n",
    "                   inplace=True)\n",
    "df.head()"
   ]
  },
  {
   "cell_type": "code",
   "execution_count": 4,
   "metadata": {},
   "outputs": [
    {
     "name": "stdout",
     "output_type": "stream",
     "text": [
      "<class 'pandas.core.frame.DataFrame'>\n",
      "RangeIndex: 7750 entries, 0 to 7749\n",
      "Data columns (total 11 columns):\n",
      " #   Column     Non-Null Count  Dtype  \n",
      "---  ------     --------------  -----  \n",
      " 0   Rank       7750 non-null   int64  \n",
      " 1   Title      7750 non-null   object \n",
      " 2   Rating     7750 non-null   float64\n",
      " 3   Image_URL  7750 non-null   object \n",
      " 4   Episodes   7750 non-null   object \n",
      " 5   Dates      7750 non-null   object \n",
      " 6   Members    7750 non-null   int64  \n",
      " 7   Genres     7620 non-null   object \n",
      " 8   Studios    7620 non-null   object \n",
      " 9   Producers  7620 non-null   object \n",
      " 10  Synopsis   7523 non-null   object \n",
      "dtypes: float64(1), int64(2), object(8)\n",
      "memory usage: 666.1+ KB\n"
     ]
    }
   ],
   "source": [
    "# dataset information\n",
    "df.info()"
   ]
  },
  {
   "cell_type": "code",
   "execution_count": 5,
   "metadata": {},
   "outputs": [
    {
     "data": {
      "text/plain": [
       "Rank           0\n",
       "Title          0\n",
       "Rating         0\n",
       "Image_URL      0\n",
       "Episodes       0\n",
       "Dates          0\n",
       "Members        0\n",
       "Genres       130\n",
       "Studios      130\n",
       "Producers    130\n",
       "Synopsis     227\n",
       "dtype: int64"
      ]
     },
     "execution_count": 5,
     "metadata": {},
     "output_type": "execute_result"
    }
   ],
   "source": [
    "# remove values with white space to NaN and check for missing values\n",
    "df.replace(r'^\\s*$', np.nan, regex=True, inplace=True)\n",
    "df.isnull().sum()"
   ]
  },
  {
   "cell_type": "code",
   "execution_count": 6,
   "metadata": {},
   "outputs": [],
   "source": [
    "# remove missing values\n",
    "df.dropna(inplace=True)"
   ]
  },
  {
   "cell_type": "code",
   "execution_count": 7,
   "metadata": {},
   "outputs": [],
   "source": [
    "# remove all punctuation in the title and synopsis fields\n",
    "def remove_punctuation(df, column_name):\n",
    "    df[column_name] = df[column_name].str.replace(r\"[^\\w\\s]\", \" \", regex=True)\n",
    "    df[column_name] = df[column_name].str.replace(r\"\\s+\", \" \", regex=True)\n",
    "\n",
    "remove_punctuation(df, 'Title')\n",
    "remove_punctuation(df, 'Synopsis')"
   ]
  },
  {
   "cell_type": "code",
   "execution_count": 8,
   "metadata": {},
   "outputs": [],
   "source": [
    "# remove_square_brackets_and_quotation_marks in the genres, studios, and producers fields\n",
    "def remove_square_brackets_and_quotation_marks(df, column_name):\n",
    "    df[column_name] = df[column_name].str.strip(\"[]\").str.strip(\"'\")\n",
    "    df[column_name] = df[column_name].apply(lambda x: ' '.join(re.findall(r'\\b\\w+\\b', x)))\n",
    "\n",
    "remove_square_brackets_and_quotation_marks(df, 'Genres')\n",
    "remove_square_brackets_and_quotation_marks(df, 'Studios')\n",
    "remove_square_brackets_and_quotation_marks(df, 'Producers')"
   ]
  },
  {
   "cell_type": "code",
   "execution_count": 9,
   "metadata": {},
   "outputs": [],
   "source": [
    "# separates the value in the episodes column into 2 columns, namely type and episodes\n",
    "def process_episodes(episodes):\n",
    "    match = re.match(r'(\\w+) \\((\\d+) eps\\)', episodes)\n",
    "    if match:\n",
    "        return match.group(1), int(match.group(2))\n",
    "    else:\n",
    "        return None, None\n",
    "\n",
    "df['Type'], df['Episodes'] = zip(*df['Episodes'].map(process_episodes))\n",
    "df['Episodes'] = df['Episodes'].replace(r'[\\(\\)eps]+', '', regex=True)\n",
    "df['Episodes'] = df['Episodes'].fillna('Unknown')"
   ]
  },
  {
   "cell_type": "code",
   "execution_count": 10,
   "metadata": {},
   "outputs": [],
   "source": [
    "# separates the values in the dates column into start date and end date\n",
    "def process_dates(date_range):\n",
    "    if '-' in date_range:\n",
    "        start_date, end_date = map(str.strip, date_range.split('-'))\n",
    "        end_date = 'Present' if end_date == '' else end_date\n",
    "    else:\n",
    "        start_date, end_date = date_range, 'Present'\n",
    "    return start_date, end_date\n",
    "\n",
    "df[['StartDate', 'EndDate']] = df['Dates'].apply(process_dates).apply(pd.Series)\n",
    "df = df.drop(columns='Dates')"
   ]
  },
  {
   "cell_type": "code",
   "execution_count": 11,
   "metadata": {},
   "outputs": [],
   "source": [
    "# create a status column based on whether the anime has finished airing or is still running\n",
    "def determine_status(end_date):\n",
    "    return 'Currently Airing' if end_date == 'Present' else 'Finished Airing'\n",
    "\n",
    "df['Status'] = df['EndDate'].apply(determine_status)"
   ]
  },
  {
   "cell_type": "code",
   "execution_count": 12,
   "metadata": {},
   "outputs": [],
   "source": [
    "# sort column names\n",
    "col_order = ['Rank', 'Title', 'Rating', 'Type', 'Episodes', 'StartDate', 'EndDate', 'Status', 'Genres', 'Studios', 'Producers', 'Synopsis', 'Members']\n",
    "df = df[col_order]"
   ]
  },
  {
   "cell_type": "code",
   "execution_count": 13,
   "metadata": {},
   "outputs": [
    {
     "data": {
      "text/html": [
       "<div>\n",
       "<style scoped>\n",
       "    .dataframe tbody tr th:only-of-type {\n",
       "        vertical-align: middle;\n",
       "    }\n",
       "\n",
       "    .dataframe tbody tr th {\n",
       "        vertical-align: top;\n",
       "    }\n",
       "\n",
       "    .dataframe thead th {\n",
       "        text-align: right;\n",
       "    }\n",
       "</style>\n",
       "<table border=\"1\" class=\"dataframe\">\n",
       "  <thead>\n",
       "    <tr style=\"text-align: right;\">\n",
       "      <th></th>\n",
       "      <th>Rank</th>\n",
       "      <th>Title</th>\n",
       "      <th>Rating</th>\n",
       "      <th>Type</th>\n",
       "      <th>Episodes</th>\n",
       "      <th>StartDate</th>\n",
       "      <th>EndDate</th>\n",
       "      <th>Status</th>\n",
       "      <th>Genres</th>\n",
       "      <th>Studios</th>\n",
       "      <th>Producers</th>\n",
       "      <th>Synopsis</th>\n",
       "      <th>Members</th>\n",
       "    </tr>\n",
       "  </thead>\n",
       "  <tbody>\n",
       "    <tr>\n",
       "      <th>0</th>\n",
       "      <td>1</td>\n",
       "      <td>Sousou no Frieren</td>\n",
       "      <td>9.12</td>\n",
       "      <td>TV</td>\n",
       "      <td>28.0</td>\n",
       "      <td>Sep 2023</td>\n",
       "      <td>Present</td>\n",
       "      <td>Currently Airing</td>\n",
       "      <td>Adventure Drama Fantasy</td>\n",
       "      <td>Madhouse</td>\n",
       "      <td>TOHO animation Shogakukan</td>\n",
       "      <td>The demon king has been defeated and the victo...</td>\n",
       "      <td>342432</td>\n",
       "    </tr>\n",
       "    <tr>\n",
       "      <th>1</th>\n",
       "      <td>2</td>\n",
       "      <td>Fullmetal Alchemist Brotherhood</td>\n",
       "      <td>9.09</td>\n",
       "      <td>TV</td>\n",
       "      <td>64.0</td>\n",
       "      <td>Apr 2009</td>\n",
       "      <td>Jul 2010</td>\n",
       "      <td>Finished Airing</td>\n",
       "      <td>Action Adventure Drama Fantasy</td>\n",
       "      <td>Bones</td>\n",
       "      <td>Aniplex Square Enix Mainichi Broadcasting Syst...</td>\n",
       "      <td>After a horrific alchemy experiment goes wrong...</td>\n",
       "      <td>3262313</td>\n",
       "    </tr>\n",
       "    <tr>\n",
       "      <th>2</th>\n",
       "      <td>3</td>\n",
       "      <td>Steins Gate</td>\n",
       "      <td>9.07</td>\n",
       "      <td>TV</td>\n",
       "      <td>24.0</td>\n",
       "      <td>Apr 2011</td>\n",
       "      <td>Sep 2011</td>\n",
       "      <td>Finished Airing</td>\n",
       "      <td>Drama Sci Fi Suspense</td>\n",
       "      <td>White Fox</td>\n",
       "      <td>Frontier Works Media Factory Kadokawa Shoten M...</td>\n",
       "      <td>Eccentric scientist Rintarou Okabe has a never...</td>\n",
       "      <td>2505276</td>\n",
       "    </tr>\n",
       "    <tr>\n",
       "      <th>3</th>\n",
       "      <td>4</td>\n",
       "      <td>Gintama</td>\n",
       "      <td>9.06</td>\n",
       "      <td>TV</td>\n",
       "      <td>51.0</td>\n",
       "      <td>Apr 2015</td>\n",
       "      <td>Mar 2016</td>\n",
       "      <td>Finished Airing</td>\n",
       "      <td>Action Comedy Sci Fi</td>\n",
       "      <td>Bandai Namco Pictures</td>\n",
       "      <td>TV Tokyo Aniplex Dentsu</td>\n",
       "      <td>Gintoki Shinpachi and Kagura return as the fun...</td>\n",
       "      <td>614712</td>\n",
       "    </tr>\n",
       "    <tr>\n",
       "      <th>4</th>\n",
       "      <td>5</td>\n",
       "      <td>Shingeki no Kyojin Season 3 Part 2</td>\n",
       "      <td>9.05</td>\n",
       "      <td>TV</td>\n",
       "      <td>10.0</td>\n",
       "      <td>Apr 2019</td>\n",
       "      <td>Jul 2019</td>\n",
       "      <td>Finished Airing</td>\n",
       "      <td>Action Drama</td>\n",
       "      <td>Wit Studio</td>\n",
       "      <td>Production I G Dentsu Mainichi Broadcasting Sy...</td>\n",
       "      <td>Seeking to restore humanity s diminishing hope...</td>\n",
       "      <td>2194804</td>\n",
       "    </tr>\n",
       "  </tbody>\n",
       "</table>\n",
       "</div>"
      ],
      "text/plain": [
       "   Rank                               Title  Rating Type Episodes StartDate  \\\n",
       "0     1                   Sousou no Frieren    9.12   TV     28.0  Sep 2023   \n",
       "1     2     Fullmetal Alchemist Brotherhood    9.09   TV     64.0  Apr 2009   \n",
       "2     3                         Steins Gate    9.07   TV     24.0  Apr 2011   \n",
       "3     4                            Gintama     9.06   TV     51.0  Apr 2015   \n",
       "4     5  Shingeki no Kyojin Season 3 Part 2    9.05   TV     10.0  Apr 2019   \n",
       "\n",
       "    EndDate            Status                          Genres  \\\n",
       "0   Present  Currently Airing         Adventure Drama Fantasy   \n",
       "1  Jul 2010   Finished Airing  Action Adventure Drama Fantasy   \n",
       "2  Sep 2011   Finished Airing           Drama Sci Fi Suspense   \n",
       "3  Mar 2016   Finished Airing            Action Comedy Sci Fi   \n",
       "4  Jul 2019   Finished Airing                    Action Drama   \n",
       "\n",
       "                 Studios                                          Producers  \\\n",
       "0               Madhouse                          TOHO animation Shogakukan   \n",
       "1                  Bones  Aniplex Square Enix Mainichi Broadcasting Syst...   \n",
       "2              White Fox  Frontier Works Media Factory Kadokawa Shoten M...   \n",
       "3  Bandai Namco Pictures                            TV Tokyo Aniplex Dentsu   \n",
       "4             Wit Studio  Production I G Dentsu Mainichi Broadcasting Sy...   \n",
       "\n",
       "                                            Synopsis  Members  \n",
       "0  The demon king has been defeated and the victo...   342432  \n",
       "1  After a horrific alchemy experiment goes wrong...  3262313  \n",
       "2  Eccentric scientist Rintarou Okabe has a never...  2505276  \n",
       "3  Gintoki Shinpachi and Kagura return as the fun...   614712  \n",
       "4  Seeking to restore humanity s diminishing hope...  2194804  "
      ]
     },
     "execution_count": 13,
     "metadata": {},
     "output_type": "execute_result"
    }
   ],
   "source": [
    "df.head()"
   ]
  },
  {
   "cell_type": "code",
   "execution_count": 14,
   "metadata": {},
   "outputs": [
    {
     "data": {
      "text/plain": [
       "Rank            0\n",
       "Title           0\n",
       "Rating          0\n",
       "Type           31\n",
       "Episodes        0\n",
       "StartDate       0\n",
       "EndDate         0\n",
       "Status          0\n",
       "Genres        197\n",
       "Studios       303\n",
       "Producers    2154\n",
       "Synopsis        0\n",
       "Members         0\n",
       "dtype: int64"
      ]
     },
     "execution_count": 14,
     "metadata": {},
     "output_type": "execute_result"
    }
   ],
   "source": [
    "# remove values with white space to NaN and check for missing values\n",
    "df.replace(r'^\\s*$', np.nan, regex=True, inplace=True)\n",
    "df.isnull().sum()"
   ]
  },
  {
   "cell_type": "code",
   "execution_count": 15,
   "metadata": {},
   "outputs": [],
   "source": [
    "# remove missing values\n",
    "df.dropna(inplace=True)\n",
    "df.reset_index(inplace=True)"
   ]
  },
  {
   "cell_type": "code",
   "execution_count": 16,
   "metadata": {},
   "outputs": [
    {
     "name": "stdout",
     "output_type": "stream",
     "text": [
      "<class 'pandas.core.frame.DataFrame'>\n",
      "RangeIndex: 5049 entries, 0 to 5048\n",
      "Data columns (total 14 columns):\n",
      " #   Column     Non-Null Count  Dtype  \n",
      "---  ------     --------------  -----  \n",
      " 0   index      5049 non-null   int64  \n",
      " 1   Rank       5049 non-null   int64  \n",
      " 2   Title      5049 non-null   object \n",
      " 3   Rating     5049 non-null   float64\n",
      " 4   Type       5049 non-null   object \n",
      " 5   Episodes   5049 non-null   object \n",
      " 6   StartDate  5049 non-null   object \n",
      " 7   EndDate    5049 non-null   object \n",
      " 8   Status     5049 non-null   object \n",
      " 9   Genres     5049 non-null   object \n",
      " 10  Studios    5049 non-null   object \n",
      " 11  Producers  5049 non-null   object \n",
      " 12  Synopsis   5049 non-null   object \n",
      " 13  Members    5049 non-null   int64  \n",
      "dtypes: float64(1), int64(3), object(10)\n",
      "memory usage: 552.4+ KB\n"
     ]
    }
   ],
   "source": [
    "# dataset information after cleaning\n",
    "df.info()"
   ]
  },
  {
   "cell_type": "markdown",
   "metadata": {},
   "source": [
    "## CONTENT-BASED FILTERING"
   ]
  },
  {
   "cell_type": "code",
   "execution_count": 17,
   "metadata": {},
   "outputs": [],
   "source": [
    "# combine the three features into one text, convert the text into TF-IDF vectors, and calculate the cosine similarity between the TF-IDF vectors\n",
    "df['Combined'] = df['Genres'] + ' ' + df['Studios'] + ' ' + df['Producers']\n",
    "\n",
    "tfidf_vectorizer = TfidfVectorizer()\n",
    "tfidf_matrix = tfidf_vectorizer.fit_transform(df['Combined'])\n",
    "cosine_sim = linear_kernel(tfidf_matrix, tfidf_matrix)\n",
    "df['Content_Based_Score'] = cosine_sim.diagonal()"
   ]
  },
  {
   "cell_type": "markdown",
   "metadata": {},
   "source": [
    "## POPULARITY-BASED FILTERING"
   ]
  },
  {
   "cell_type": "code",
   "execution_count": 18,
   "metadata": {},
   "outputs": [],
   "source": [
    "# scaling the rank, rating, and member columns and creating a popularity score\n",
    "scaler = MinMaxScaler()\n",
    "df[['Rank_Normalized', 'Rating_Normalized', 'Members_Normalized']] = scaler.fit_transform(df[['Rank', 'Rating', 'Members']])\n",
    "\n",
    "weights = {'Rank_Normalized': 0.2, 'Rating_Normalized': 0.5, 'Members_Normalized': 0.3}\n",
    "df['Popularity_Score'] = df.apply(lambda row: sum(row[col] * weights[col] for col in weights), axis=1)"
   ]
  },
  {
   "cell_type": "markdown",
   "metadata": {},
   "source": [
    "## ANIME RECOMMENDER SYSTEM"
   ]
  },
  {
   "cell_type": "code",
   "execution_count": 19,
   "metadata": {},
   "outputs": [],
   "source": [
    "# create a weightscore to determine how much score weight for each algorithm\n",
    "content_based_weight = 0.7\n",
    "popularity_based_weight = 0.3\n",
    "\n",
    "df['Final_Score'] = content_based_weight * df['Content_Based_Score'] + popularity_based_weight * df['Popularity_Score']\n",
    "df_sorted_final = df.sort_values(by='Final_Score', ascending=False)"
   ]
  },
  {
   "cell_type": "code",
   "execution_count": null,
   "metadata": {},
   "outputs": [
    {
     "data": {
      "application/vnd.jupyter.widget-view+json": {
       "model_id": "02ae05d0dff545a6a305e8b0f96bf2b8",
       "version_major": 2,
       "version_minor": 0
      },
      "text/plain": [
       "Text(value='Jujutsu Kaisen', description='Anime Title :')"
      ]
     },
     "metadata": {},
     "output_type": "display_data"
    },
    {
     "data": {
      "application/vnd.jupyter.widget-view+json": {
       "model_id": "b6f6950deab149248cd163633915b84f",
       "version_major": 2,
       "version_minor": 0
      },
      "text/plain": [
       "Output()"
      ]
     },
     "metadata": {},
     "output_type": "display_data"
    }
   ],
   "source": [
    "# create a search bar box to determine anime recommendations based on user input\n",
    "def search(title, df_sorted_final, cosine_sim):\n",
    "    try:\n",
    "        idx = df_sorted_final[df_sorted_final['Title'].str.contains(title, case=False)].index[0]\n",
    "    except IndexError:\n",
    "        print(f\"No matching anime found for the input '{title}'.\")\n",
    "        return None\n",
    "\n",
    "    sim_scores = list(enumerate(cosine_sim[idx]))\n",
    "    sim_scores = sorted(sim_scores, key=lambda x: x[1], reverse=True)\n",
    "    top_similar_indices = [i[0] for i in sim_scores[1:6]]\n",
    "\n",
    "    recommended_anime = df_sorted_final[['Title', 'Final_Score']].iloc[top_similar_indices]\n",
    "    return recommended_anime\n",
    "\n",
    "anime_input = widgets.Text(\n",
    "    value='Jujutsu Kaisen',\n",
    "    description='Anime Title :',\n",
    "    disabled=False\n",
    ")\n",
    "\n",
    "anime_list = widgets.Output()\n",
    "\n",
    "def on_type(change):\n",
    "    with anime_list:\n",
    "        anime_list.clear_output()\n",
    "        title = change.new\n",
    "        if len(title) > 2:\n",
    "            recommended_anime = search(title, df_sorted_final, cosine_sim)\n",
    "            if recommended_anime is not None:\n",
    "                display(recommended_anime)\n",
    "\n",
    "anime_input.observe(on_type, names='value')\n",
    "display(anime_input, anime_list)"
   ]
  }
 ],
 "metadata": {
  "kernelspec": {
   "display_name": "Python 3",
   "language": "python",
   "name": "python3"
  },
  "language_info": {
   "codemirror_mode": {
    "name": "ipython",
    "version": 3
   },
   "file_extension": ".py",
   "mimetype": "text/x-python",
   "name": "python",
   "nbconvert_exporter": "python",
   "pygments_lexer": "ipython3",
   "version": "3.11.4"
  }
 },
 "nbformat": 4,
 "nbformat_minor": 2
}
